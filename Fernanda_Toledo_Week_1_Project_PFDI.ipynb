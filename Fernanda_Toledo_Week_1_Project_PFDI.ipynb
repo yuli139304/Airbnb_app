{
  "cells": [
    {
      "cell_type": "markdown",
      "metadata": {
        "id": "view-in-github",
        "colab_type": "text"
      },
      "source": [
        "<a href=\"https://colab.research.google.com/github/yuli139304/Airbnb_app/blob/main/Fernanda_Toledo_Week_1_Project_PFDI.ipynb\" target=\"_parent\"><img src=\"https://colab.research.google.com/assets/colab-badge.svg\" alt=\"Open In Colab\"/></a>"
      ]
    },
    {
      "cell_type": "markdown",
      "id": "a2040e3d-bfb8-40b8-8861-4485db413cf7",
      "metadata": {
        "id": "a2040e3d-bfb8-40b8-8861-4485db413cf7"
      },
      "source": [
        "> 1. DUPLICATE THIS COLAB DOCUMENT TO START WORKING ON IT: On the top-left of this page, go to File > Save a copy to drive.\n",
        "> 2. SHARE SETTINGS: In the new notebook, set the sharing settings to \"Anyone with the link\" by clicking \"Share\" on the top-right corner.\n",
        "\n",
        "<center>\n",
        "  <img src=https://teamleader.fra1.cdn.digitaloceanspaces.com/corporate/production/header/_1200x630_crop_center-center_75_none/HQ_Blog_TheUltimateProjectmanager_Header.png width=\"500\" align=\"center\" />\n",
        "</center>\n",
        "<br/>\n",
        "\n",
        "# Week 1: Clean the Airbnb Dataset (and Deploy It!)\n",
        "\n",
        "Welcome to the first week's project for *Python for Data Science*!\n",
        "\n",
        "This week's lecture and material on CoRise showed you how to effectively use NumPy to clean, read, and process data. Now having looked at the data, you might be thinking to yourself, \"Why were these these latitude and longitude columns included in the dataset for Week 1?\" 🤷 We'll put this data to use in this project, and also get a preview of how you will be expected to make forecasts of your own with this data at the end of this course! For this week's project, we are going to use that location data to make an interactive app. We hope this project gets you excited for what's to come in following weeks 🙌🙌! \n",
        "\n",
        "But first, let's process our data! \n",
        "\n",
        "---\n",
        "\n",
        "*All the information required to finish this week's project can be found by clicking on the **\"Related section on CoRise\"**-link. If you are unable to do so, please reach out to us on Slack!*"
      ]
    },
    {
      "cell_type": "markdown",
      "id": "f86691c8-d0b3-4c58-bd5b-dcfe1c2b5ff2",
      "metadata": {
        "id": "f86691c8-d0b3-4c58-bd5b-dcfe1c2b5ff2"
      },
      "source": [
        "## Downloading the Dataset\n",
        "\n",
        "You will need to download some prerequisite packages in order to run all the code below. Let's install them!"
      ]
    },
    {
      "cell_type": "code",
      "source": [
        "%%capture\n",
        "!pip install numpy pandas streamlit gdown currencyconverter"
      ],
      "metadata": {
        "id": "J3MB5-_L32bV"
      },
      "id": "J3MB5-_L32bV",
      "execution_count": null,
      "outputs": []
    },
    {
      "cell_type": "code",
      "source": [
        "import numpy as np\n",
        "\n",
        "# For readability purposes, we will disable scientific notation for numbers\n",
        "np.set_printoptions(suppress=True)"
      ],
      "metadata": {
        "id": "TCoESZJw7Xfs"
      },
      "id": "TCoESZJw7Xfs",
      "execution_count": null,
      "outputs": []
    },
    {
      "cell_type": "markdown",
      "source": [
        "Taking a look at the `import` statements below shows that we are using a mix of Python out-of-the-box 🎁 libraries (os, shutil, gzip) alongside some custom ones (gdown, numpy). Gdown allows us to download files from Google Drive, which is where we saved our modified dataset. Gzip helps us unzip downloaded files. Shutil copies the downloaded files in the right location, and we'll use os to delete unneeded files."
      ],
      "metadata": {
        "id": "jKJRJSiM8pWW"
      },
      "id": "jKJRJSiM8pWW"
    },
    {
      "cell_type": "code",
      "execution_count": null,
      "id": "73934f9d-54f0-4c72-9bb3-7bfdb11419f2",
      "metadata": {
        "id": "73934f9d-54f0-4c72-9bb3-7bfdb11419f2",
        "colab": {
          "base_uri": "https://localhost:8080/",
          "height": 104
        },
        "outputId": "b53a5616-7fb6-49f3-8026-e937446db651"
      },
      "outputs": [
        {
          "output_type": "stream",
          "name": "stderr",
          "text": [
            "Downloading...\n",
            "From: https://drive.google.com/uc?id=13fyESiH1ZEnMV6eabAyhe20t4W6peEWK\n",
            "To: /content/WK1_Airbnb_Amsterdam_listings_proj.csv\n",
            "100%|██████████| 246k/246k [00:00<00:00, 36.6MB/s]\n"
          ]
        },
        {
          "output_type": "execute_result",
          "data": {
            "text/plain": [
              "'WK1_Airbnb_Amsterdam_listings_proj.csv'"
            ],
            "application/vnd.google.colaboratory.intrinsic+json": {
              "type": "string"
            }
          },
          "metadata": {},
          "execution_count": 6
        }
      ],
      "source": [
        "import os\n",
        "import shutil\n",
        "\n",
        "import gdown\n",
        "from numpy import genfromtxt\n",
        "\n",
        "# Download file from Google Drive\n",
        "# This file is based on data from: http://insideairbnb.com/get-the-data/\n",
        "file_id_1 = \"13fyESiH1ZEnMV6eabAyhe20t4W6peEWK\"\n",
        "downloaded_file_1 = \"WK1_Airbnb_Amsterdam_listings_proj.csv\"\n",
        "\n",
        "# Download the file from Google Drive\n",
        "gdown.download(id=file_id_1, output=downloaded_file_1)"
      ]
    },
    {
      "cell_type": "markdown",
      "id": "f4f4a85f-ad1a-46c0-8978-a049fa91dd72",
      "metadata": {
        "id": "f4f4a85f-ad1a-46c0-8978-a049fa91dd72"
      },
      "source": [
        "## Preprocessing the Dataset\n",
        "Getting this particular dataset loaded is a tad bit different from what we learned in this week's content. This time we only have 1 CSV file, so we do not need to merge it. So because there is no need to merge we can move right into data preprocessing!"
      ]
    },
    {
      "cell_type": "markdown",
      "id": "5b75635e-469f-45ef-bf57-2bd22c03e7e7",
      "metadata": {
        "id": "5b75635e-469f-45ef-bf57-2bd22c03e7e7"
      },
      "source": [
        "#### Task 1: Find your delimiter\n",
        "\n",
        "[*\\[Related section on CoRise\\]*](https://corise.com/course/python-for-data-science/v2/module/loading-inspect-dataset-kzxvy#corise_clak8pc87000g2a76vw0m8nyq)\n",
        "\n",
        "Inspect the csv file we just downloaded and look at the type of delimiter it has. Once you've found the right delimiter, use the dtype \"unicode\". "
      ]
    },
    {
      "cell_type": "code",
      "execution_count": null,
      "id": "887bc0b0-3a61-4cf4-a534-d9dee0f639b8",
      "metadata": {
        "id": "887bc0b0-3a61-4cf4-a534-d9dee0f639b8"
      },
      "outputs": [],
      "source": [
        "from numpy import genfromtxt\n",
        "\n",
        "my_data = genfromtxt(downloaded_file_1, delimiter=\"|\", dtype=\"unicode\")\n"
      ]
    },
    {
      "cell_type": "markdown",
      "source": [
        "<details>\n",
        "  <summary>Show Solution</summary>\n",
        "\n",
        "  \n",
        "```python\n",
        "my_data = genfromtxt(downloaded_file_1, delimiter=\"|\", dtype=\"unicode\")\n",
        "```\n",
        "\n",
        "</details>"
      ],
      "metadata": {
        "id": "2WRoL3qkjwwc"
      },
      "id": "2WRoL3qkjwwc"
    },
    {
      "cell_type": "markdown",
      "source": [
        "Next, output the first four columns for inspection to see if you've got the data formatted how you'd like."
      ],
      "metadata": {
        "id": "XM90mSYSgkoI"
      },
      "id": "XM90mSYSgkoI"
    },
    {
      "cell_type": "code",
      "source": [
        "my_data[:,0:4]\n"
      ],
      "metadata": {
        "id": "IVG_WkJzg0KC",
        "colab": {
          "base_uri": "https://localhost:8080/"
        },
        "outputId": "0a061e27-59de-46b4-a4a7-7cc48547f57e"
      },
      "id": "IVG_WkJzg0KC",
      "execution_count": null,
      "outputs": [
        {
          "output_type": "execute_result",
          "data": {
            "text/plain": [
              "array([['', '0', '1', '2'],\n",
              "       ['id', '23726706', '35815036', '31553121'],\n",
              "       ['price', '$88.00', '$105.00', '$152.00'],\n",
              "       ['latitude', '52.34916', '52.42419', '52.43237'],\n",
              "       ['longitude', '4.97879', '4.95689', '4.91821']], dtype='<U18')"
            ]
          },
          "metadata": {},
          "execution_count": 8
        }
      ]
    },
    {
      "cell_type": "markdown",
      "source": [
        "<details>\n",
        "  <summary>Show Expected Output</summary>\n",
        "\n",
        "  \n",
        "```\n",
        "array([['', '0', '1', '2'],\n",
        "    ['id', '23726706', '35815036', '31553121'],\n",
        "    ['price', '$88.00', '$105.00', '$152.00'],\n",
        "    ['latitude', '52.34916', '52.42419', '52.43237'],\n",
        "    ['longitude', '4.97879', '4.95689', '4.91821']], dtype='<U18')\n",
        "```\n",
        "\n",
        "<details>\n",
        "<summary>Show Solution</summary>\n",
        "\n",
        "```python\n",
        "my_data[:, :4]\n",
        "```\n",
        "\n",
        "</details>\n",
        "</details>"
      ],
      "metadata": {
        "id": "PntLDRZqXV5j"
      },
      "id": "PntLDRZqXV5j"
    },
    {
      "cell_type": "markdown",
      "source": [
        "Awesome! But notice our data is aligned a little differently than how we saw in the course materials. It's like we shifted our dataset by 90 degrees! You'll have to fix this a little bit later."
      ],
      "metadata": {
        "id": "bJx2m6DnhGiS"
      },
      "id": "bJx2m6DnhGiS"
    },
    {
      "cell_type": "markdown",
      "id": "6148c44a-aefe-474c-a5ab-7c7d9aad86c0",
      "metadata": {
        "id": "6148c44a-aefe-474c-a5ab-7c7d9aad86c0"
      },
      "source": [
        "#### Task 2: Clean it up\n",
        "\n",
        "[*\\[Related section on CoRise\\]*](https://corise.com/course/python-for-data-science/v2/module/merging-datasets-c8ztil#corise_claka2d1n000p2a76ecnog17z)\n",
        "\n",
        "In order for your calculations to run correctly, you need to have only the \"relevant\" numbers/entries present in your dataset. This means no headers, footers, redudant IDs, etc. Can you remove the first row and column, since you won't be needing them? Verify your work by again by printing out the first four columns."
      ]
    },
    {
      "cell_type": "code",
      "execution_count": null,
      "id": "62d32bbd-33e5-4dbe-b448-4f932c2119f2",
      "metadata": {
        "id": "62d32bbd-33e5-4dbe-b448-4f932c2119f2",
        "colab": {
          "base_uri": "https://localhost:8080/"
        },
        "outputId": "d39f39b9-b3d2-43a9-da79-3bce4f455db3"
      },
      "outputs": [
        {
          "output_type": "execute_result",
          "data": {
            "text/plain": [
              "array([['23726706', '35815036', '31553121', '34745823'],\n",
              "       ['$88.00', '$105.00', '$152.00', '$87.00'],\n",
              "       ['52.34916', '52.42419', '52.43237', '52.2962'],\n",
              "       ['4.97879', '4.95689', '4.91821', '5.01231']], dtype='<U18')"
            ]
          },
          "metadata": {},
          "execution_count": 9
        }
      ],
      "source": [
        "# Remove the first column and row\n",
        "\n",
        "matrix_r = my_data[1:,1:]\n",
        "# Print out the first four columns\n",
        "\n",
        "matrix_r[:,0:4]"
      ]
    },
    {
      "cell_type": "code",
      "source": [],
      "metadata": {
        "colab": {
          "base_uri": "https://localhost:8080/"
        },
        "outputId": "949f3380-f60c-4bcf-9323-9a37f58f1d4f",
        "id": "vqjK-xid_lGI"
      },
      "execution_count": null,
      "outputs": [
        {
          "output_type": "execute_result",
          "data": {
            "text/plain": [
              "array([['23726706', '35815036', '31553121', '34745823'],\n",
              "       ['$88.00', '$105.00', '$152.00', '$87.00'],\n",
              "       ['52.34916', '52.42419', '52.43237', '52.2962'],\n",
              "       ['4.97879', '4.95689', '4.91821', '5.01231']], dtype='<U18')"
            ]
          },
          "metadata": {},
          "execution_count": 43
        }
      ],
      "id": "vqjK-xid_lGI"
    },
    {
      "cell_type": "markdown",
      "source": [
        "<details>\n",
        "  <summary>Show Expected Output</summary>\n",
        "\n",
        "  \n",
        "```\n",
        "array([['23726706', '35815036', '31553121', '34745823'],\n",
        "       ['$88.00', '$105.00', '$152.00', '$87.00'],\n",
        "       ['52.34916', '52.42419', '52.43237', '52.2962'],\n",
        "       ['4.97879', '4.95689', '4.91821', '5.01231']], dtype='<U18')\n",
        "```\n",
        "\n",
        "<details>\n",
        "<summary>Show Solution</summary>\n",
        "\n",
        "```python\n",
        "# Remove the first column and row\n",
        "matrix = my_data[1:, 1:]\n",
        "\n",
        "# Print out the first four columns\n",
        "matrix[:, :4]\n",
        "```\n",
        "\n",
        "</details>\n",
        "</details>"
      ],
      "metadata": {
        "id": "0s-QELmn_tZ0"
      },
      "id": "0s-QELmn_tZ0"
    },
    {
      "cell_type": "markdown",
      "id": "f221f2b8-872b-432b-83da-abe0c74d0e6d",
      "metadata": {
        "id": "f221f2b8-872b-432b-83da-abe0c74d0e6d"
      },
      "source": [
        "#### Task 3: Wide to long\n",
        "\n",
        "[*\\[Related section on CoRise\\]*](https://corise.com/course/python-for-data-science/v2/module/loading-inspect-dataset-kzxvy#corise_clak8qb34000h2a76ll8r2ole)\n",
        "\n",
        "As stated previously, our dataset is shifted by 90 degrees. Let's shift it another 90 degrees to get it back to how we'd expect, which is in a much more readable format. Please find in the course material in CoRise the correct operation that you'd need to use to do that. Again, verify your work by printing out of the first five rows."
      ]
    },
    {
      "cell_type": "code",
      "execution_count": null,
      "id": "b7210723-75ef-48ce-b568-2c2aeebfb013",
      "metadata": {
        "id": "b7210723-75ef-48ce-b568-2c2aeebfb013",
        "colab": {
          "base_uri": "https://localhost:8080/"
        },
        "outputId": "1e774a25-ef3a-4c3b-e46d-18c72dfd5eb1"
      },
      "outputs": [
        {
          "output_type": "execute_result",
          "data": {
            "text/plain": [
              "array([['23726706', '$88.00', '52.34916', '4.97879'],\n",
              "       ['35815036', '$105.00', '52.42419', '4.95689'],\n",
              "       ['31553121', '$152.00', '52.43237', '4.91821'],\n",
              "       ['34745823', '$87.00', '52.2962', '5.01231'],\n",
              "       ['44586947', '$160.00', '52.31475', '5.0303']], dtype='<U18')"
            ]
          },
          "metadata": {},
          "execution_count": 10
        }
      ],
      "source": [
        "# Shift the matrix by 90 degrees\n",
        "matrix_r_90 = matrix_r.T\n",
        "matrix_r_90\n",
        "\n",
        "# Print out the first five rows\n",
        "# Entries: airbnb_id, price_usd, latitude, longitude\n",
        "matrix_r_90[0:5,:]\n"
      ]
    },
    {
      "cell_type": "markdown",
      "source": [
        "<details>\n",
        "  <summary>Show Expected Output</summary>\n",
        "\n",
        "  \n",
        "```\n",
        "array([['23726706', '$88.00', '52.34916', '4.97879'],\n",
        "       ['35815036', '$105.00', '52.42419', '4.95689'],\n",
        "       ['31553121', '$152.00', '52.43237', '4.91821'],\n",
        "       ['34745823', '$87.00', '52.2962', '5.01231'],\n",
        "       ['44586947', '$160.00', '52.31475', '5.0303']], dtype='<U18')\n",
        "```\n",
        "\n",
        "<details>\n",
        "<summary>Show Solution</summary>\n",
        "\n",
        "```python\n",
        "# Shift the matrix by 90 degrees\n",
        "matrix = matrix.T\n",
        "\n",
        "# Print out the first five rows\n",
        "matrix[:5, :]\n",
        "```\n",
        "\n",
        "</details>\n",
        "</details>"
      ],
      "metadata": {
        "id": "PKP67aZuCGxU"
      },
      "id": "PKP67aZuCGxU"
    },
    {
      "cell_type": "markdown",
      "id": "fa562426-e9b0-426a-aa1c-6c4dd8cd76ca",
      "metadata": {
        "id": "fa562426-e9b0-426a-aa1c-6c4dd8cd76ca"
      },
      "source": [
        "Now that all data is loaded properly, let's clean it up a bit like we did before by removing string characters and setting the right type 😁."
      ]
    },
    {
      "cell_type": "markdown",
      "id": "74231480-3ab7-463a-ae18-e7f7cf81764a",
      "metadata": {
        "id": "74231480-3ab7-463a-ae18-e7f7cf81764a"
      },
      "source": [
        "#### Task 4: That character is not appropriate\n",
        "\n",
        "[*\\[Related section on CoRise\\]*](https://corise.com/course/python-for-data-science/v2/module/merging-datasets-c8ztil#corise_claka2ge3000q2a76vqgh1db3)\n",
        "\n",
        "String characters like commas and dollar signs are yet again present in the dataset. Please find in the CoRise course materials the correct operation to filter out these two string characters from the dataset."
      ]
    },
    {
      "cell_type": "code",
      "execution_count": null,
      "id": "d912e33e-cc33-4e03-9163-7f061bac3711",
      "metadata": {
        "id": "d912e33e-cc33-4e03-9163-7f061bac3711"
      },
      "outputs": [],
      "source": [
        "# Remove the dollar sign\n",
        "\n",
        "import numpy as np\n",
        "matrix_wo_dollar =np.char.replace(matrix_r_90, \"$\", \"\") # YOUR CODE HERE\n",
        "\n",
        "# Remove the comma\n",
        "matrix_wo_dollar_comma = np.char.replace(matrix_wo_dollar, \",\", \"\") # YOUR CODE HERE"
      ]
    },
    {
      "cell_type": "markdown",
      "source": [
        "<details>\n",
        "    <summary>Show Solution</summary>\n",
        "\n",
        "```python\n",
        "# Remove the dollar sign\n",
        "matrix = np.char.replace(matrix, \"$\", \"\")\n",
        "\n",
        "# Remove the comma\n",
        "matrix = np.char.replace(matrix, \",\", \"\")\n",
        "```\n",
        "</details>"
      ],
      "metadata": {
        "id": "dX3mImvqgwnT"
      },
      "id": "dX3mImvqgwnT"
    },
    {
      "cell_type": "markdown",
      "source": [
        "Awesome! Now the dataset contains only numerical values allowing us to perform numerical operations... at least if we set the type right!"
      ],
      "metadata": {
        "id": "59P9Vhe-kH06"
      },
      "id": "59P9Vhe-kH06"
    },
    {
      "cell_type": "markdown",
      "source": [
        "#### Task 5: Verification is the key to success!\n",
        "\n",
        "[*\\[Related section on CoRise\\]*](https://corise.com/course/python-for-data-science/v2/module/merging-datasets-c8ztil#corise_claka2ge3000q2a76vqgh1db3)\n",
        "\n",
        "Let's verify our matrix to confirm there are no more string characters present. Check to see if a dollar sign or comma still appears anywhere in the matrix. \n"
      ],
      "metadata": {
        "id": "jf6FdM8pk6BN"
      },
      "id": "jf6FdM8pk6BN"
    },
    {
      "cell_type": "code",
      "source": [
        "# Check if the dollar sign is in our dataset\n",
        "#matrix_wo_dollar_comma[(np.char.find(matrix_wo_dollar_comma, \"$\") > -1) | (np.char.find(matrix_wo_dollar_comma, \",\") > -1)]\n",
        "matrix_wo_dollar_comma[(np.char.find(matrix_wo_dollar_comma, \"$\") > -1)]"
      ],
      "metadata": {
        "id": "zuicHsxMohnz",
        "colab": {
          "base_uri": "https://localhost:8080/"
        },
        "outputId": "f1fe5501-ed8c-4b58-e13e-ebe546a5d691"
      },
      "id": "zuicHsxMohnz",
      "execution_count": null,
      "outputs": [
        {
          "output_type": "execute_result",
          "data": {
            "text/plain": [
              "array([], dtype='<U18')"
            ]
          },
          "metadata": {},
          "execution_count": 12
        }
      ]
    },
    {
      "cell_type": "markdown",
      "source": [
        "<details>\n",
        "  <summary>Show Expected Output</summary>\n",
        "\n",
        "  \n",
        "```\n",
        "array([], dtype='<U18')\n",
        "```\n",
        "\n",
        "<details>\n",
        "<summary>Show Solution</summary>\n",
        "\n",
        "```python\n",
        "# Check if the dollar sign is in our dataset\n",
        "matrix[np.char.find(matrix, \"$\") > -1]\n",
        "```\n",
        "\n",
        "</details>\n",
        "</details>"
      ],
      "metadata": {
        "id": "MYBf6qp1hsAV"
      },
      "id": "MYBf6qp1hsAV"
    },
    {
      "cell_type": "code",
      "source": [
        "# Check if the comma sign is in our dataset\n",
        "matrix_wo_dollar_comma[(np.char.find(matrix_wo_dollar_comma, \",\") > -1)]"
      ],
      "metadata": {
        "id": "JjpYr2JZousV",
        "colab": {
          "base_uri": "https://localhost:8080/"
        },
        "outputId": "f0ed3122-3fb4-40e2-a8eb-b223ade3d73f"
      },
      "id": "JjpYr2JZousV",
      "execution_count": null,
      "outputs": [
        {
          "output_type": "execute_result",
          "data": {
            "text/plain": [
              "array([], dtype='<U18')"
            ]
          },
          "metadata": {},
          "execution_count": 13
        }
      ]
    },
    {
      "cell_type": "markdown",
      "source": [
        "<details>\n",
        "  <summary>Show Expected Output</summary>\n",
        "\n",
        "  \n",
        "```\n",
        "array([], dtype='<U18')\n",
        "```\n",
        "\n",
        "<details>\n",
        "<summary>Show Solution</summary>\n",
        "\n",
        "```python\n",
        "# Check if the dollar sign is in our dataset\n",
        "matrix[np.char.find(matrix, \",\") > -1]\n",
        "```\n",
        "\n",
        "</details>\n",
        "</details>"
      ],
      "metadata": {
        "id": "SnahuKjyh_2U"
      },
      "id": "SnahuKjyh_2U"
    },
    {
      "cell_type": "markdown",
      "id": "ed389a6d-8ad2-46aa-b1fa-56c7851584c0",
      "metadata": {
        "id": "ed389a6d-8ad2-46aa-b1fa-56c7851584c0"
      },
      "source": [
        "#### Task 6: Are you my type?\n",
        "\n",
        "[*\\[Related section on CoRise\\]*](https://corise.com/course/python-for-data-science/v2/module/merging-datasets-c8ztil#corise_claka2ge3000q2a76vqgh1db3)\n",
        "\n",
        "Enabling numerical operations (calculations) requires you to change the `dtype` from string/Unicode characters to [float of 32-bit precision](https://numpy.org/doc/stable/user/basics.types.html?highlight=data%20types). Please change the dtype of the matrix to float32.\n"
      ]
    },
    {
      "cell_type": "code",
      "execution_count": null,
      "id": "c78d95bf-bf7c-4342-9004-1f80616598ff",
      "metadata": {
        "id": "c78d95bf-bf7c-4342-9004-1f80616598ff",
        "colab": {
          "base_uri": "https://localhost:8080/"
        },
        "outputId": "e41e23e3-3ee6-4de6-8b0a-eb74854036a6"
      },
      "outputs": [
        {
          "output_type": "execute_result",
          "data": {
            "text/plain": [
              "array([[23726706.     ,       88.     ,       52.34916,        4.97879],\n",
              "       [35815036.     ,      105.     ,       52.42419,        4.95689],\n",
              "       [31553120.     ,      152.     ,       52.43237,        4.91821],\n",
              "       [34745824.     ,       87.     ,       52.2962 ,        5.01231],\n",
              "       [44586948.     ,      160.     ,       52.31475,        5.0303 ]],\n",
              "      dtype=float32)"
            ]
          },
          "metadata": {},
          "execution_count": 14
        }
      ],
      "source": [
        "# Change Unicode to float32\n",
        "matrix = matrix_wo_dollar_comma.astype(np.float32)\n",
        "\n",
        "# Print out the first five rows (and inspect the dtype for correctness)\n",
        "# Entries: airbnb_id, price_usd, latitude, longitude\n",
        "matrix[0:5,:]"
      ]
    },
    {
      "cell_type": "markdown",
      "source": [
        "<details>\n",
        "  <summary>Show Expected Output</summary>\n",
        "\n",
        "  \n",
        "```\n",
        "array([[23726706.     ,       88.     ,       52.34916,        4.97879],\n",
        "       [35815036.     ,      105.     ,       52.42419,        4.95689],\n",
        "       [31553120.     ,      152.     ,       52.43237,        4.91821],\n",
        "       [34745824.     ,       87.     ,       52.2962 ,        5.01231],\n",
        "       [44586948.     ,      160.     ,       52.31475,        5.0303 ]],\n",
        "      dtype=float32)\n",
        "```\n",
        "\n",
        "<details>\n",
        "<summary>Show Solution</summary>\n",
        "\n",
        "```python\n",
        "# Change unicode to float32\n",
        "matrix = matrix.astype(np.float32)\n",
        "\n",
        "# Print out the first five rows (and inspect the dtype for correctness)\n",
        "matrix[:5, :]\n",
        "```\n",
        "\n",
        "</details>\n",
        "</details>"
      ],
      "metadata": {
        "id": "cKa6XKbNkmfF"
      },
      "id": "cKa6XKbNkmfF"
    },
    {
      "cell_type": "markdown",
      "id": "16249349-8d37-4d24-b0c4-8a416aeda7ea",
      "metadata": {
        "id": "16249349-8d37-4d24-b0c4-8a416aeda7ea"
      },
      "source": [
        "## The Price Is Right\n",
        "\n",
        "<center>\n",
        "  <img src=https://wwwimage-tve.cbsstatic.com/thumbnails/photos/w400-q80/blog/tpir-logo-promo_0_0.jpg width=\"500\" align=\"center\" />\n",
        "</center>\n",
        "<br/>\n",
        "\n",
        "[*\\[Related section on CoRise\\]*](https://corise.com/course/python-for-data-science/v2/module/math-superpowers-jkk4pg#corise_clalbmvov00002a7683kahrhx)\n",
        "\n",
        "Since all our values in the matrix are now recognized as numbers, we can perform some awesome calcultions! \n",
        "\n",
        "Our next objective is to change the currency from US dollars to another currency. This can be any currency you like, except for the US dollar. Let's first import the library that helps us to make these conversions. Then let's have another look at the first 5 rows of our matrix."
      ]
    },
    {
      "cell_type": "code",
      "execution_count": null,
      "id": "93e4e8b3-6f19-4e31-a324-2bd94dc461a2",
      "metadata": {
        "id": "93e4e8b3-6f19-4e31-a324-2bd94dc461a2",
        "colab": {
          "base_uri": "https://localhost:8080/"
        },
        "outputId": "fe17c195-1ca9-4a1f-c553-a83e5a8d3660"
      },
      "outputs": [
        {
          "output_type": "execute_result",
          "data": {
            "text/plain": [
              "array([ 88., 105., 152., ..., 180., 174.,  65.], dtype=float32)"
            ]
          },
          "metadata": {},
          "execution_count": 16
        }
      ],
      "source": [
        "\n",
        "\n",
        "\n",
        "from currency_converter import CurrencyConverter\n",
        "\n",
        "cc = CurrencyConverter()\n",
        "\n",
        "def convert_to_euro(dollar: float, currency: str):\n",
        "        return cc.convert(dollar,currency)\n",
        "    \n",
        "price_euro=[]\n",
        "\n",
        "\n",
        "for i in matrix_t_c:\n",
        "    price_euro.append(i)\n",
        "\n",
        "\n",
        "convert_vec = np.vectorize(convert_to_euro)\n",
        "\n",
        "\n",
        "final_conv_=convert_vec(matrix[:, 1], \"EUR\")\n",
        "\n",
        "final_conv_\n",
        "\n",
        "matrix[:,1]"
      ]
    },
    {
      "cell_type": "markdown",
      "source": [
        "The currency conversion calculations you'll be performing should be applied to the second column. \n",
        "\n",
        "As a reminder, you should use the number \"1\" which represents the second column of the matrix, since indexes start at the number zero.\n",
        "\n",
        "Please only output the second column below:"
      ],
      "metadata": {
        "id": "yu69KkfA9kMl"
      },
      "id": "yu69KkfA9kMl"
    },
    {
      "cell_type": "code",
      "execution_count": null,
      "id": "cf6d4cdd-ae46-4be5-9204-537f45d9b4f4",
      "metadata": {
        "id": "cf6d4cdd-ae46-4be5-9204-537f45d9b4f4",
        "colab": {
          "base_uri": "https://localhost:8080/"
        },
        "outputId": "8789c539-2f52-478b-a553-aec2b7b522a9"
      },
      "outputs": [
        {
          "output_type": "execute_result",
          "data": {
            "text/plain": [
              "array([ 88., 105., 152., ..., 180., 174.,  65.], dtype=float32)"
            ]
          },
          "metadata": {},
          "execution_count": 17
        }
      ],
      "source": [
        "matrix_f= matrix_wo_dollar_comma.astype(np.float32)\n",
        "matrix_f[:,1]"
      ]
    },
    {
      "cell_type": "markdown",
      "source": [
        "<details>\n",
        "  <summary>Show Expected Output</summary>\n",
        "\n",
        "```\n",
        "array([ 88., 105., 152., ..., 180., 174.,  65.], dtype=float32)\n",
        "```\n",
        "\n",
        "<details>\n",
        "<summary>Show Solution</summary>\n",
        "\n",
        "```python\n",
        "matrix[:, 1]\n",
        "\n",
        "```\n",
        "\n",
        "</details>\n",
        "</details>"
      ],
      "metadata": {
        "id": "h-kkB2G7lNxJ"
      },
      "id": "h-kkB2G7lNxJ"
    },
    {
      "cell_type": "markdown",
      "metadata": {
        "id": "MuUQATyL-CNj"
      },
      "source": [
        "#### Task 7: Pick any currency\n",
        "\n",
        "[*\\[Related section on CoRise\\]*](https://corise.com/course/python-for-data-science/v2/module/math-superpowers-jkk4pg#corise_clalbmvov00002a7683kahrhx)\n",
        "\n",
        "The tool you'll be using has a total of 42 currencies. Please select one of them, and use it to convert the dollars into your chosen currency. You can check which are available by running:"
      ],
      "id": "MuUQATyL-CNj"
    },
    {
      "cell_type": "code",
      "source": [
        "cc.currencies"
      ],
      "metadata": {
        "id": "KhehQKENWBLm",
        "colab": {
          "base_uri": "https://localhost:8080/"
        },
        "outputId": "010410c5-a720-4d42-8dce-98d4995ce6ca"
      },
      "id": "KhehQKENWBLm",
      "execution_count": null,
      "outputs": [
        {
          "output_type": "execute_result",
          "data": {
            "text/plain": [
              "{'AUD',\n",
              " 'BGN',\n",
              " 'BRL',\n",
              " 'CAD',\n",
              " 'CHF',\n",
              " 'CNY',\n",
              " 'CYP',\n",
              " 'CZK',\n",
              " 'DKK',\n",
              " 'EEK',\n",
              " 'EUR',\n",
              " 'GBP',\n",
              " 'HKD',\n",
              " 'HRK',\n",
              " 'HUF',\n",
              " 'IDR',\n",
              " 'ILS',\n",
              " 'INR',\n",
              " 'ISK',\n",
              " 'JPY',\n",
              " 'KRW',\n",
              " 'LTL',\n",
              " 'LVL',\n",
              " 'MTL',\n",
              " 'MXN',\n",
              " 'MYR',\n",
              " 'NOK',\n",
              " 'NZD',\n",
              " 'PHP',\n",
              " 'PLN',\n",
              " 'ROL',\n",
              " 'RON',\n",
              " 'RUB',\n",
              " 'SEK',\n",
              " 'SGD',\n",
              " 'SIT',\n",
              " 'SKK',\n",
              " 'THB',\n",
              " 'TRL',\n",
              " 'TRY',\n",
              " 'USD',\n",
              " 'ZAR'}"
            ]
          },
          "metadata": {},
          "execution_count": 18
        }
      ]
    },
    {
      "cell_type": "markdown",
      "source": [
        "A suggestion for those who don't know which to choose: Feel free to use GBP."
      ],
      "metadata": {
        "id": "cj7Y4mPPWBUY"
      },
      "id": "cj7Y4mPPWBUY"
    },
    {
      "cell_type": "code",
      "execution_count": null,
      "id": "3b1b9df8-6b29-41a8-8bce-1a51bb710ec9",
      "metadata": {
        "id": "3b1b9df8-6b29-41a8-8bce-1a51bb710ec9",
        "colab": {
          "base_uri": "https://localhost:8080/"
        },
        "outputId": "c56f18cf-9c5a-42a2-91e0-0abafef81e91"
      },
      "outputs": [
        {
          "output_type": "execute_result",
          "data": {
            "text/plain": [
              "88.0"
            ]
          },
          "metadata": {},
          "execution_count": 19
        }
      ],
      "source": [
        "# Get the rate of conversaton from the US dollar to your currency of choice\n",
        "gbp_rate = cc.convert(1, \"USD\", \"GBP\")\n",
        "\n",
        "# Multiply the dollar column by your currency of choice\n",
        "matrix_d_c_gbp= matrix_f[:, 1]*gbp_rate\n",
        "\n"
      ]
    },
    {
      "cell_type": "markdown",
      "source": [
        "\n",
        "<details>\n",
        "<summary>Show Solution</summary>\n",
        "\n",
        "```python\n",
        "# Get the rate of converting dollar to your currency of choice\n",
        "gbp_rate = cc.convert(1, \"USD\", \"GBP\")  # British Pound\n",
        "\n",
        "# Multiply the dollar column by your currency of choice\n",
        "matrix[:, 1] = matrix[:, 1] * gbp_rate\n",
        "```\n",
        "\n",
        "</details>"
      ],
      "metadata": {
        "id": "E-EvvrnJmxKi"
      },
      "id": "E-EvvrnJmxKi"
    },
    {
      "cell_type": "markdown",
      "id": "440efa8a-3c39-4615-a65a-e8ba956d6a9f",
      "metadata": {
        "id": "440efa8a-3c39-4615-a65a-e8ba956d6a9f"
      },
      "source": [
        "#### Task 8: Inflation!\n",
        "\n",
        "[*\\[Related section on CoRise\\]*](https://corise.com/course/python-for-data-science/v2/module/math-superpowers-jkk4pg#corise_cl9k5kagm003q3b6pek28zg1w)\n",
        "\n",
        "Recent inflation all around the world has caused many companies to raise their prices. Consequently, Airbnb listings have also raised their prices by a certain amount. Find the 2022 annual inflation rate for your currency of choice. If you can't find the inflation rate online, use 7% as value. Apply this inflation rate to our newly updated prices."
      ]
    },
    {
      "cell_type": "code",
      "execution_count": null,
      "id": "b9b77c45-ad45-424d-a826-91cc86712df6",
      "metadata": {
        "id": "b9b77c45-ad45-424d-a826-91cc86712df6",
        "colab": {
          "base_uri": "https://localhost:8080/"
        },
        "outputId": "1610768e-9209-42fd-fc00-63b307931b03"
      },
      "outputs": [
        {
          "output_type": "execute_result",
          "data": {
            "text/plain": [
              "array([ 77.32021 ,  92.25708 , 133.5531  , ..., 158.15498 , 152.88316 ,\n",
              "        57.111526], dtype=float32)"
            ]
          },
          "metadata": {},
          "execution_count": 20
        }
      ],
      "source": [
        "# Multiply the dollar column by the inflation percentage (1.00 + inflation)\n",
        "matrix_infla_gbp= matrix_d_c_gbp*(1.07)\n",
        "matrix_infla_gbp"
      ]
    },
    {
      "cell_type": "markdown",
      "source": [
        "<details>\n",
        "  <summary>Show Expected Output</summary>\n",
        "\n",
        "```\n",
        "array([ 77.32021 ,  92.25708 , 133.5531  , ..., 158.15498 , 152.88316 ,\n",
        "        57.111526], dtype=float32)\n",
        "```\n",
        "\n",
        "<details>\n",
        "<summary>Show Solution</summary>\n",
        "\n",
        "```python\n",
        "# Multiply the dollar column by the inflation percentage (1.00 + inflation)\n",
        "matrix[:, 1] = matrix[:, 1] * 1.07\n",
        "```\n",
        "\n",
        "</details>\n",
        "</details>"
      ],
      "metadata": {
        "id": "lXX1FZUHpEv0"
      },
      "id": "lXX1FZUHpEv0"
    },
    {
      "cell_type": "markdown",
      "id": "3580b8ee-594a-4a79-8207-df656f23450c",
      "metadata": {
        "id": "3580b8ee-594a-4a79-8207-df656f23450c"
      },
      "source": [
        "#### Task 9: Too many decimals!\n",
        "\n",
        "[*\\[Related section on CoRise\\]*](https://corise.com/course/python-for-data-science/v2/module/math-superpowers-jkk4pg#corise_cl9k5vlbx004z3b6pz6puz9x4)\n",
        "\n",
        "You might have some prices longer than two decimals after changing the currency and adjusting the price for inflation. Please round the prices **down** to the nearest two decimals using a NumPy native function. [Here's a hint.](https://numpy.org/doc/stable/reference/generated/numpy.around.html)"
      ]
    },
    {
      "cell_type": "code",
      "execution_count": null,
      "id": "4f62b24b-fb75-406d-92f0-033e1afec123",
      "metadata": {
        "id": "4f62b24b-fb75-406d-92f0-033e1afec123",
        "colab": {
          "base_uri": "https://localhost:8080/"
        },
        "outputId": "16425132-cc3b-4ca3-b4f5-ebf17f1d4fb0"
      },
      "outputs": [
        {
          "output_type": "execute_result",
          "data": {
            "text/plain": [
              "array([ 77.32,  92.26, 133.55, ..., 158.15, 152.88,  57.11], dtype=float32)"
            ]
          },
          "metadata": {},
          "execution_count": 21
        }
      ],
      "source": [
        "# Round down the new currency column to 2 decimals\n",
        "matrix_infla_gbp_rounded = np.round(matrix_infla_gbp, 2)\n",
        "matrix_infla_gbp_rounded"
      ]
    },
    {
      "cell_type": "markdown",
      "source": [
        "\n",
        "<details>\n",
        "<summary>Show Solution</summary>\n",
        "\n",
        "```python\n",
        "# Round down the new currency column to 2 decimals\n",
        "matrix[:, 1] = np.round(matrix[:, 1], 2)\n",
        "```\n",
        "\n",
        "</details>"
      ],
      "metadata": {
        "id": "QsJnIZAKpWK0"
      },
      "id": "QsJnIZAKpWK0"
    },
    {
      "cell_type": "markdown",
      "id": "6ec2a91e-8252-4fd2-86b0-919adb15b6d0",
      "metadata": {
        "id": "6ec2a91e-8252-4fd2-86b0-919adb15b6d0"
      },
      "source": [
        "## Where u (want to be) at?\n",
        "\n",
        "\n",
        "<center>\n",
        "  <img src=https://media.timeout.com/images/105504583/750/422/image.jpg width=\"500\" align=\"center\" />\n",
        "</center>\n",
        "<br/>\n",
        "\n",
        "Amsterdam is a city with a long history and a rich international culture, so there is always [something interesting to see and do](https://www.iamsterdam.com/en/see-and-do/things-to-do/top-20-things-to-do-in-amsterdam). What if you were to visit Amsterdam? You'd probably want to have your Airbnb close to your favorite spot!"
      ]
    },
    {
      "cell_type": "markdown",
      "id": "08eb3f54-9af1-483a-b6ac-354d6c77d77e",
      "metadata": {
        "id": "08eb3f54-9af1-483a-b6ac-354d6c77d77e"
      },
      "source": [
        "#### Task 10: Choose your location\n",
        "\n",
        "Look up a place you'd like to visit in Amsterdam's city center, along with its longitude and latitude. We want to save this for choosing an Airbnb listing to our liking. You can get coordinates from [Google](https://www.google.com/) by searching like so:\n",
        "\n",
        "<center>\n",
        "  <img src=https://i.ibb.co/XXdkH3z/Screen-Shot-2022-10-24-at-2-42-54-PM.png width=\"500\" align=\"center\" />\n",
        "</center>\n",
        "<br/>\n",
        "\n",
        "\n"
      ]
    },
    {
      "cell_type": "code",
      "execution_count": null,
      "id": "61014b50-cceb-4f75-9d4f-639c197eec52",
      "metadata": {
        "id": "61014b50-cceb-4f75-9d4f-639c197eec52"
      },
      "outputs": [],
      "source": [
        "# Cat cabinet \n",
        "latitude = 52.3656 # YOUR COORDINATES\n",
        "longitude = 4.8915 # YOUR COORDINATES\n",
        "\n"
      ]
    },
    {
      "cell_type": "markdown",
      "id": "4caaddc7-403f-4ed1-8593-2d1085bff3f7",
      "metadata": {
        "id": "4caaddc7-403f-4ed1-8593-2d1085bff3f7"
      },
      "source": [
        "## Listing All Listings\n",
        "\n",
        "<center>\n",
        "  <img src=https://images0.persgroep.net/rcs/vnd5KBhggcKV72YJjpLWH_-xljU/diocontent/131036963/_crop/34/170/1378/778/_fitwidth/763?appId=93a17a8fd81db0de025c8abd1cca1279&quality=0.8&desiredformat=webp width=\"500\" align=\"center\" />\n",
        "</center>\n",
        "<br/>\n",
        "\n",
        "Imagine Airbnb Amsterdam decided to deviate from Airbnb Global and provide a feature on their website that showed the best listings for you based on the locations you were planning to visit. Wouldn't it make sense to choose a place to stay in a location closest to where you're likely to go most often?\n",
        "\n",
        "So this is the most exciting part: You're going to calculate just that! You will limit your results to your favorite location in Amsterdam (as chosen above) and the surrounding available Airbnb listings using math and NumPy!\n",
        "\n",
        "We've already provided you with the math calculations down below. Please make sure to run that method!\n",
        "\n",
        "You'll have to use this method in a `for` loop or by using [`np.vectorize`](https://numpy.org/doc/stable/reference/generated/numpy.vectorize.html) as was shown on CoRise. "
      ]
    },
    {
      "cell_type": "code",
      "execution_count": null,
      "id": "b8911e6f-321f-4d93-9e8a-feb558fb2502",
      "metadata": {
        "id": "b8911e6f-321f-4d93-9e8a-feb558fb2502"
      },
      "outputs": [],
      "source": [
        "import math\n",
        "\n",
        "def from_location_to_airbnb_listing_in_meters(lat1: float, lon1: float, lat2: list, lon2: list):\n",
        "    # Source: https://community.esri.com/t5/coordinate-reference-systems-blog\n",
        "    # /distance-on-a-sphere-the-haversine-formula/ba-p/902128\n",
        "    \n",
        "    R = 6371000  # Radius of Earth in meters\n",
        "    phi_1 = math.radians(lat1)\n",
        "    phi_2 = math.radians(lat2)\n",
        "\n",
        "    delta_phi = math.radians(lat2 - lat1)\n",
        "    delta_lambda = math.radians(lon2 - lon1)\n",
        "\n",
        "    a = (\n",
        "        math.sin(delta_phi / 2.0) ** 2\n",
        "        + math.cos(phi_1) * math.cos(phi_2) * math.sin(delta_lambda / 2.0) ** 2\n",
        "    )\n",
        "\n",
        "    c = 2 * math.atan2(math.sqrt(a), math.sqrt(1 - a))\n",
        "\n",
        "    meters = R * c  # Output distance in meters\n",
        "\n",
        "    return round(meters, 0)"
      ]
    },
    {
      "cell_type": "markdown",
      "id": "1d059854-9eba-4c1e-bfbd-3aea2f3017ad",
      "metadata": {
        "id": "1d059854-9eba-4c1e-bfbd-3aea2f3017ad"
      },
      "source": [
        "#### Task 11: Loop or vectorize!\n",
        "\n",
        "[*\\[Related section on CoRise\\]*](https://corise.com/course/python-for-data-science/v2/module/math-superpowers#corise_cl9k5z30h005w3b6p5jv0vs82)\n",
        "\n",
        "Please implement a `for` loop (or vectorize) the `from_location_to_airbnb_listing_in_meters` function. ***For now just calculate these numbers. Don't add it as a new column to your matrix.***"
      ]
    },
    {
      "cell_type": "code",
      "execution_count": null,
      "id": "997ec8fa-5cc1-4fd3-ae01-fd53e0ffc0d6",
      "metadata": {
        "id": "997ec8fa-5cc1-4fd3-ae01-fd53e0ffc0d6",
        "colab": {
          "base_uri": "https://localhost:8080/"
        },
        "outputId": "5616cc4a-c7af-46fb-cd31-c8d493f480c3"
      },
      "outputs": [
        {
          "output_type": "execute_result",
          "data": {
            "text/plain": [
              "array([6203., 7882., 7642., ..., 6783., 5407., 5342.])"
            ]
          },
          "metadata": {},
          "execution_count": 24
        }
      ],
      "source": [
        "\n",
        "\n",
        "# Create a loop or vectorized way to calculate the distance,\n",
        "\n",
        "#loop\n",
        "\n",
        "loop_append_from_location_to_airbnb_listing_in_meters =[]\n",
        "for i in range(len(matrix_f[:,2])):\n",
        "    loop_append_from_location_to_airbnb_listing_in_meters.append(from_location_to_airbnb_listing_in_meters(latitude, longitude, matrix_f[:,2][i], matrix_f[:,3][i]))\n",
        "\n",
        "\n",
        "#vectorize\n",
        "\n",
        "vect_from_location_to_airbnb_listing_in_meters=np.vectorize(from_location_to_airbnb_listing_in_meters)\n",
        "# going over all latitude and longitude entries in the dataset\n",
        "\n",
        "vect_res=vect_from_location_to_airbnb_listing_in_meters(latitude, longitude, matrix_f[:, 2], matrix_f[:, 3])\n",
        "\n",
        "loop_res= np.array(loop_append_from_location_to_airbnb_listing_in_meters)\n",
        "\n",
        "vect_res\n",
        "loop_res"
      ]
    },
    {
      "cell_type": "markdown",
      "source": [
        "<details>\n",
        "<summary>Show Solution</summary>\n",
        "\n",
        "```python\n",
        "# Allow a Python-function to be used in a (semi-)vectorized way.\n",
        "conv_to_meters = np.vectorize(from_location_to_airbnb_listing_in_meters)\n",
        "\n",
        "# Apply the function\n",
        "conv_to_meters(latitude, longitude, matrix[:, 2], matrix[:, 3])\n",
        "```\n",
        "\n",
        "</details>"
      ],
      "metadata": {
        "id": "8zEIgsAkryQX"
      },
      "id": "8zEIgsAkryQX"
    },
    {
      "cell_type": "markdown",
      "source": [
        "Now let's use the `timeit` function to see how quickly the code is ran!\n",
        "\n",
        "[*\\[Related section on CoRise\\]*](https://corise.com/course/python-for-data-science/v2/module/math-superpowers-jkk4pg#corise_cl9k73m23006d3b6p58l5fw0e)"
      ],
      "metadata": {
        "id": "_JmXLcq4C7EB"
      },
      "id": "_JmXLcq4C7EB"
    },
    {
      "cell_type": "code",
      "source": [
        "%%timeit -r 4 -n 100\n",
        "\n",
        "# Allow a Python function to be used in a (semi-)vectorized way\n",
        "conv_to_meters = np.vectorize(from_location_to_airbnb_listing_in_meters)\n",
        "\n",
        "# Apply the function, use timeit\n",
        "conv_to_meters(latitude, longitude, matrix_f[:, 2], matrix_f[:, 3])"
      ],
      "metadata": {
        "id": "m1oqM9C2D4sJ",
        "colab": {
          "base_uri": "https://localhost:8080/"
        },
        "outputId": "c47338ce-69b6-49e6-9c3e-2b12b8c6420c"
      },
      "id": "m1oqM9C2D4sJ",
      "execution_count": null,
      "outputs": [
        {
          "output_type": "stream",
          "name": "stdout",
          "text": [
            "18.4 ms ± 5.71 ms per loop (mean ± std. dev. of 4 runs, 100 loops each)\n"
          ]
        }
      ]
    },
    {
      "cell_type": "markdown",
      "id": "080e07c8-2e37-4a46-89f0-6b73048697e5",
      "metadata": {
        "id": "080e07c8-2e37-4a46-89f0-6b73048697e5"
      },
      "source": [
        "## Can We Do It Faster?\n",
        "\n",
        "<center>\n",
        "  <img src=https://upload.wikimedia.org/wikipedia/commons/9/9f/Serengeti_Lion_Running_saturated.jpg width=\"500\" align=\"center\" />\n",
        "</center>\n",
        "<br/>\n",
        "\n",
        "Now you might be thinking to yourself, *can we do this faster*? \n",
        "\n",
        "The answer is ***YES***! \n",
        "\n",
        "But please remember that optimization is always a trade-off between the need for speed and the need for delivery of your results!"
      ]
    },
    {
      "cell_type": "markdown",
      "id": "bab0fd01-6c42-46eb-b68a-28e66d63c2c6",
      "metadata": {
        "id": "bab0fd01-6c42-46eb-b68a-28e66d63c2c6"
      },
      "source": [
        "---\n",
        "\n",
        "#### (Extra Credit)  Task 12: NumPy all the way!\n",
        "\n",
        "[*\\[Related section on CoRise\\]*](https://corise.com/course/python-for-data-science/v2/module/math-superpowers-jkk4pg#corise_clatg1k0e000q3b6p3gqmi24g)\n",
        "\n",
        "Now convert the `from_location_to_airbnb_listing_in_meters` function into a pure NumPy function. You can do this by changing all the imported math functions into their NumPy variant. ***For now just calculate these numbers. Don't add it as a new column to your matrix.***"
      ]
    },
    {
      "cell_type": "code",
      "execution_count": null,
      "id": "b5a1712a-1b01-40c8-8d21-706001b22910",
      "metadata": {
        "id": "b5a1712a-1b01-40c8-8d21-706001b22910"
      },
      "outputs": [],
      "source": [
        "def from_location_to_airbnb_listing_in_meters(lat1: float, lon1: float, lat2: np.ndarray, lon2: np.ndarray):   \n",
        "    R = 6371000  # Radius of Earth in meters\n",
        "    phi_1 = np.radians(lat1) # CHANGE THIS\n",
        "    phi_2 = np.radians(lat2) # CHANGE THIS\n",
        "\n",
        "    delta_phi = np.radians(lat2 - lat1) # CHANGE THIS\n",
        "    delta_lambda = np.radians(lon2 - lon1) # CHANGE THIS\n",
        "\n",
        "    a = (\n",
        "        np.sin(delta_phi / 2.0) ** 2 # CHANGE THIS\n",
        "        + np.cos(phi_1) * np.cos(phi_2) * np.sin(delta_lambda / 2.0) ** 2 # CHANGE THIS (3x)\n",
        "    )\n",
        "\n",
        "    c = 2 * np.arctan2(math.sqrt(a), np.sqrt(1 - a)) # CHANGE THIS (3x)\n",
        "\n",
        "    meters = R * c  # Output distance in meters\n",
        "\n",
        "    return np.round(meters, 0) # CHANGE THIS"
      ]
    },
    {
      "cell_type": "code",
      "execution_count": null,
      "id": "532a16a5-d82b-4f70-a94e-5c78c5caab15",
      "metadata": {
        "id": "532a16a5-d82b-4f70-a94e-5c78c5caab15"
      },
      "outputs": [],
      "source": [
        "# Run the converted NumPy method and check if it works\n",
        "... # It is in the previous cell"
      ]
    },
    {
      "cell_type": "markdown",
      "source": [
        "<details>\n",
        "\n",
        "<summary>Show Solution</summary>\n",
        "\n",
        "```python\n",
        "def from_location_to_airbnb_listing_in_meters(\n",
        "    lat1: float, lon1: float, lat2: np.ndarray, lon2: np.ndarray\n",
        "):\n",
        "    R = 6371000  # radius of Earth in meters\n",
        "    phi_1 = np.radians(lat1)\n",
        "    phi_2 = np.radians(lat2)\n",
        "\n",
        "    delta_phi = np.radians(lat2 - lat1)\n",
        "    delta_lambda = np.radians(lon2 - lon1)\n",
        "\n",
        "    a = (\n",
        "        np.sin(delta_phi / 2.0) ** 2\n",
        "        + np.cos(phi_1) * np.cos(phi_2) * np.sin(delta_lambda / 2.0) ** 2\n",
        "    )\n",
        "\n",
        "    c = 2 * np.arctan2(np.sqrt(a), np.sqrt(1 - a))\n",
        "\n",
        "    meters = R * c  # output distance in meters\n",
        "\n",
        "    return np.round(meters, 0)\n",
        "```\n",
        "\n",
        "</details>"
      ],
      "metadata": {
        "id": "ebecYPj-rwPt"
      },
      "id": "ebecYPj-rwPt"
    },
    {
      "cell_type": "code",
      "source": [],
      "metadata": {
        "id": "mee70xj0jl3f"
      },
      "id": "mee70xj0jl3f",
      "execution_count": null,
      "outputs": []
    },
    {
      "cell_type": "markdown",
      "source": [
        "#### (Extra Credit) Task 13: How much faster is it?\n",
        "\n",
        "[*\\[Related section on CoRise\\]*](https://corise.com/course/python-for-data-science/v2/module/math-superpowers-jkk4pg#corise_cl9k6pc1700683b6py8seb6f7)\n",
        "\n",
        "Use the `timeit` function so we can compare it to the outcome of the prior task. This should be very similar to the `timeit`-code that was used below Task 11."
      ],
      "metadata": {
        "id": "7G3KvDaeF9YD"
      },
      "id": "7G3KvDaeF9YD"
    },
    {
      "cell_type": "code",
      "source": [
        "\n",
        "# Copy the code from Task 12 and add a timeit function above this comment\n",
        "def from_location_to_airbnb_listing_in_meters(lat1: float, lon1: float, lat2: np.ndarray, lon2: np.ndarray):   \n",
        "    R = 6371000  # Radius of Earth in meters\n",
        "    phi_1 = np.radians(lat1) # CHANGE THIS\n",
        "    phi_2 = np.radians(lat2) # CHANGE THIS\n",
        "\n",
        "    delta_phi = np.radians(lat2 - lat1) # CHANGE THIS\n",
        "    delta_lambda = np.radians(lon2 - lon1) # CHANGE THIS\n",
        "\n",
        "    a = (\n",
        "        np.sin(delta_phi / 2.0) ** 2 # CHANGE THIS\n",
        "        + np.cos(phi_1) * np.cos(phi_2) * np.sin(delta_lambda / 2.0) ** 2 # CHANGE THIS (3x)\n",
        "    )\n",
        "\n",
        "    c = 2 * np.arctan2(np.sqrt(a), np.sqrt(1 - a)) # CHANGE THIS (3x)\n",
        "\n",
        "    meters = R * c  # Output distance in meters\n",
        "    return np.round(meters, 0) # CHANGE THIS\n",
        "\n"
      ],
      "metadata": {
        "id": "xJjqvkBGGMT4"
      },
      "id": "xJjqvkBGGMT4",
      "execution_count": null,
      "outputs": []
    },
    {
      "cell_type": "code",
      "source": [
        "\n",
        "%%timeit -r 4 -n 100\n",
        "from_location_to_airbnb_listing_in_meters(latitude, longitude, np.array(matrix_f[:, 2]), np.array(matrix_f[:, 3]))\n",
        "\n"
      ],
      "metadata": {
        "id": "z9lvmqysjpYG",
        "colab": {
          "base_uri": "https://localhost:8080/"
        },
        "outputId": "a33c7490-9d52-4110-b1d7-839bc91d1ba2"
      },
      "id": "z9lvmqysjpYG",
      "execution_count": null,
      "outputs": [
        {
          "output_type": "stream",
          "name": "stdout",
          "text": [
            "314 µs ± 53.4 µs per loop (mean ± std. dev. of 4 runs, 100 loops each)\n"
          ]
        }
      ]
    },
    {
      "cell_type": "markdown",
      "source": [
        "WOW! You see a massive speed-up just by switching your functions from default Python functions to their NumPy variants! Awesome!\n",
        "\n",
        "---"
      ],
      "metadata": {
        "id": "3Wwjec7vHDK_"
      },
      "id": "3Wwjec7vHDK_"
    },
    {
      "cell_type": "markdown",
      "id": "dc1d3c93-b298-4d7f-9382-5d97efd7d675",
      "metadata": {
        "id": "dc1d3c93-b298-4d7f-9382-5d97efd7d675"
      },
      "source": [
        "## Prep the Dataset for Download!\n",
        "\n",
        "\n",
        "Now that we've created a function to calculate the distance in meters for every Airbnb listing, we'll perform this calculation on the entire dataset and add the outputs to the matrix as a new column.\n",
        "\n",
        "Next to that, we'll add another column that contains only ones and zeros to represent the \"color\" of an entry/row. This column can be used later if you want to turn this dataset into an app using [Streamlit](https://streamlit.io/). This resource is great for when you want to translate your Python projects into an interactive website. More on that in the next section.\n",
        "\n",
        "As you'll see from the code, we'll also add our favorite location as an entry/row. (We've selected the coordinates of the Rijksmuseum. Feel free to change it to your favorite location in Amsterdam). \n",
        "\n",
        "\n"
      ]
    },
    {
      "cell_type": "code",
      "execution_count": null,
      "id": "587b2c11-6b59-4075-b002-be8516c62b2d",
      "metadata": {
        "id": "587b2c11-6b59-4075-b002-be8516c62b2d"
      },
      "outputs": [],
      "source": [
        "# Run the previous method\n",
        "meters = from_location_to_airbnb_listing_in_meters(\n",
        "    latitude, longitude, matrix_f[:, 2], matrix_f[:, 3]\n",
        ")\n",
        "\n",
        "# Add an axis to make concatenation possible\n",
        "meters = meters.reshape(-1, 1)\n",
        "\n",
        "# Append the distance in meters to the matrix\n",
        "matrix = np.concatenate((matrix_f, meters), axis=1)"
      ]
    },
    {
      "cell_type": "code",
      "execution_count": null,
      "id": "e60a7c93-fe1c-46d9-9e63-0e8635b0966d",
      "metadata": {
        "id": "e60a7c93-fe1c-46d9-9e63-0e8635b0966d",
        "colab": {
          "base_uri": "https://localhost:8080/"
        },
        "outputId": "b74ab6ff-0aa9-47f3-dde2-1cb8fed4ac76"
      },
      "outputs": [
        {
          "output_type": "execute_result",
          "data": {
            "text/plain": [
              "array([[       1.        ,        0.        ,       52.36      ,\n",
              "               4.8852    ,        0.        ,        1.        ],\n",
              "       [23726706.        ,       88.        ,       52.34915924,\n",
              "               4.97878981,     6203.        ,        0.        ],\n",
              "       [35815036.        ,      105.        ,       52.42419052,\n",
              "               4.95689011,     7882.        ,        0.        ],\n",
              "       [31553120.        ,      152.        ,       52.43236923,\n",
              "               4.91821003,     7642.        ,        0.        ],\n",
              "       [34745824.        ,       87.        ,       52.2961998 ,\n",
              "               5.01231003,    11267.        ,        0.        ]])"
            ]
          },
          "metadata": {},
          "execution_count": 33
        }
      ],
      "source": [
        "# Append a color to the matrix\n",
        "colors = np.zeros(meters.shape)\n",
        "matrix = np.concatenate((matrix, colors), axis=1)\n",
        "\n",
        "# Append our entry to the matrix\n",
        "fav_entry = np.array([1, 0, 52.3600, 4.8852, 0, 1]).reshape(1, -1) # Change coordinates to your favorite location\n",
        "matrix = np.concatenate((fav_entry, matrix), axis=0)\n",
        "\n",
        "# Entries: airbnb_id, price, latitude, longitude,\n",
        "# meters from favorite point, color\n",
        "matrix[:5, :]"
      ]
    },
    {
      "cell_type": "code",
      "execution_count": null,
      "id": "2c9f02e3-9af7-4eb0-845d-96748114c5b3",
      "metadata": {
        "id": "2c9f02e3-9af7-4eb0-845d-96748114c5b3"
      },
      "outputs": [],
      "source": [
        "# Export the data to use in the primer for next week\n",
        "np.savetxt(\"WK1_Airbnb_Amsterdam_listings_proj_solution.csv\", matrix, delimiter=\",\")"
      ]
    },
    {
      "cell_type": "markdown",
      "source": [
        "Great! By running all the cells above, you've saved the matrix here on your Google Colab instance. Let's now look into how to download the dataset to your local machine."
      ],
      "metadata": {
        "id": "6YaljvSnHlwx"
      },
      "id": "6YaljvSnHlwx"
    },
    {
      "cell_type": "markdown",
      "source": [
        "### Download the Dataset to Your Local Machine!\n",
        "\n",
        "Google Colab comes with its own Python packages, allowing us to quickly download generated files like so:"
      ],
      "metadata": {
        "id": "vtFPkCD49UbC"
      },
      "id": "vtFPkCD49UbC"
    },
    {
      "cell_type": "code",
      "source": [
        "from google.colab import files\n",
        "\n",
        "# Download the file locally\n",
        "files.download('WK1_Airbnb_Amsterdam_listings_proj_solution.csv')"
      ],
      "metadata": {
        "id": "x0nVFL3_6bCC",
        "colab": {
          "base_uri": "https://localhost:8080/",
          "height": 17
        },
        "outputId": "a20bec11-1cbd-4610-8d49-ffeefbed658e"
      },
      "id": "x0nVFL3_6bCC",
      "execution_count": null,
      "outputs": [
        {
          "output_type": "display_data",
          "data": {
            "text/plain": [
              "<IPython.core.display.Javascript object>"
            ],
            "application/javascript": [
              "\n",
              "    async function download(id, filename, size) {\n",
              "      if (!google.colab.kernel.accessAllowed) {\n",
              "        return;\n",
              "      }\n",
              "      const div = document.createElement('div');\n",
              "      const label = document.createElement('label');\n",
              "      label.textContent = `Downloading \"${filename}\": `;\n",
              "      div.appendChild(label);\n",
              "      const progress = document.createElement('progress');\n",
              "      progress.max = size;\n",
              "      div.appendChild(progress);\n",
              "      document.body.appendChild(div);\n",
              "\n",
              "      const buffers = [];\n",
              "      let downloaded = 0;\n",
              "\n",
              "      const channel = await google.colab.kernel.comms.open(id);\n",
              "      // Send a message to notify the kernel that we're ready.\n",
              "      channel.send({})\n",
              "\n",
              "      for await (const message of channel.messages) {\n",
              "        // Send a message to notify the kernel that we're ready.\n",
              "        channel.send({})\n",
              "        if (message.buffers) {\n",
              "          for (const buffer of message.buffers) {\n",
              "            buffers.push(buffer);\n",
              "            downloaded += buffer.byteLength;\n",
              "            progress.value = downloaded;\n",
              "          }\n",
              "        }\n",
              "      }\n",
              "      const blob = new Blob(buffers, {type: 'application/binary'});\n",
              "      const a = document.createElement('a');\n",
              "      a.href = window.URL.createObjectURL(blob);\n",
              "      a.download = filename;\n",
              "      div.appendChild(a);\n",
              "      a.click();\n",
              "      div.remove();\n",
              "    }\n",
              "  "
            ]
          },
          "metadata": {}
        },
        {
          "output_type": "display_data",
          "data": {
            "text/plain": [
              "<IPython.core.display.Javascript object>"
            ],
            "application/javascript": [
              "download(\"download_9cc6c7c3-7179-438a-acaa-51bceebeb491\", \"WK1_Airbnb_Amsterdam_listings_proj_solution.csv\", 926100)"
            ]
          },
          "metadata": {}
        }
      ]
    },
    {
      "cell_type": "markdown",
      "source": [
        "### Make an App for Your Portfolio!\n",
        "\n",
        "<center>\n",
        "  <img src=https://griddb-pro.azureedge.net/en/wp-content/uploads/2021/08/streamlit-1160x650.png width=\"500\" align=\"center\" />\n",
        "</center>\n",
        "<br/>\n",
        "\n",
        "**Participants such as yourselves often want to use the weekly CoRise projects for their portfolios. To facilitate that, we've created this section. It might seem like a lot, but it's actually just following instructions and copy-pasting. Reach out on Slack if you get stuck!** \n",
        "\n",
        "You will make an app that visualizes the dataset as a DataFrame and as a geographic visualization like:\n",
        "\n",
        "<center>\n",
        "  <img src=https://i.ibb.co/gRhj6Jd/Screen-Shot-2022-11-10-at-3-58-17-PM.png width=\"500\" align=\"center\" />\n",
        "</center>\n",
        "<br/>\n",
        "\n",
        "Five out of the six columns in the dataset are used as so:\n",
        "- **Listing_id**: Ignored for visualization purposes\n",
        "- **Price**: Hovering over a blue/red dot displays in **bold** the price at the top\n",
        "- **Latitude**: Used to plot the blue/red dot on the map\n",
        "- **Longitude**: Used to plot the blue/red dot on the map\n",
        "- **Meters from favorite point**: Hovering over a blue/red dot displays the number of meters from the blue point\n",
        "- **Color**: Dependent on the category its assigned\n",
        "\n",
        "To visualize this, we will again use a library called [Streamlit](https://streamlit.io/). For now you are not expected to know how Streamlit works, but you are expected to be able to copy-paste and follow instructions if you want to share this project as part of your portfolio!\n",
        "\n",
        "We are going to use [Streamlit Share](https://share.streamlit.io/) to host your projects. It's a website that allows us to host our interactive projects for free online! Again, we don't expect you to understand how to use and/or modify the code we will show below. We do expect you to read the instructions and copy-paste our code to the Streamlit Share platform. Feel free to change it any way you like. Some great starting points are [here](https://python.plainenglish.io/how-to-build-web-app-using-streamlit-pandas-numpy-5e134f0cf552), [here](https://docs.streamlit.io/library/get-started/create-an-app), [here](https://streamlit.io/components), and [here](https://streamlit.io/gallery)!\n",
        "\n",
        "*Please make sure to change the currency symbol in the code below to the appropriate one if you've chosen something other than GBP/pound.*"
      ],
      "metadata": {
        "id": "C-EkAreK9aH3"
      },
      "id": "C-EkAreK9aH3"
    },
    {
      "cell_type": "code",
      "source": [
        "%%writefile streamlit_app.py\n",
        "import pandas as pd\n",
        "import plotly.express as px\n",
        "import streamlit as st\n",
        "\n",
        "# Display title and text\n",
        "st.title(\"Week 1 - Data and visualization\")\n",
        "st.markdown(\"Here we can see the dataframe created during this weeks project.\")\n",
        "\n",
        "# Read dataframe\n",
        "dataframe = pd.read_csv(\n",
        "    \"WK1_Airbnb_Amsterdam_listings_proj_solution.csv\",\n",
        "    names=[\n",
        "        \"Airbnb Listing ID\",\n",
        "        \"Price\",\n",
        "        \"Latitude\",\n",
        "        \"Longitude\",\n",
        "        \"Meters from chosen location\",\n",
        "        \"Location\",\n",
        "    ],\n",
        ")\n",
        "\n",
        "# We have a limited budget, therefore we would like to exclude\n",
        "# listings with a price above 100 pounds per night\n",
        "dataframe = dataframe[dataframe[\"Price\"] <= 100]\n",
        "\n",
        "# Display as integer\n",
        "dataframe[\"Airbnb Listing ID\"] = dataframe[\"Airbnb Listing ID\"].astype(int)\n",
        "# Round of values\n",
        "dataframe[\"Price\"] = \"£ \" + dataframe[\"Price\"].round(2).astype(str) # <--- CHANGE THIS POUND SYMBOL IF YOU CHOSE CURRENCY OTHER THAN POUND\n",
        "# Rename the number to a string\n",
        "dataframe[\"Location\"] = dataframe[\"Location\"].replace(\n",
        "    {1.0: \"To visit\", 0.0: \"Airbnb listing\"}\n",
        ")\n",
        "\n",
        "# Display dataframe and text\n",
        "st.dataframe(dataframe)\n",
        "st.markdown(\"Below is a map showing all the Airbnb listings with a red dot and the location we've chosen with a blue dot.\")\n",
        "\n",
        "# Create the plotly express figure\n",
        "fig = px.scatter_mapbox(\n",
        "    dataframe,\n",
        "    lat=\"Latitude\",\n",
        "    lon=\"Longitude\",\n",
        "    color=\"Location\",\n",
        "    color_discrete_sequence=[\"blue\", \"red\"],\n",
        "    zoom=11,\n",
        "    height=500,\n",
        "    width=800,\n",
        "    hover_name=\"Price\",\n",
        "    hover_data=[\"Meters from chosen location\", \"Location\"],\n",
        "    labels={\"color\": \"Locations\"},\n",
        ")\n",
        "fig.update_geos(center=dict(lat=dataframe.iloc[0][2], lon=dataframe.iloc[0][3]))\n",
        "fig.update_layout(mapbox_style=\"stamen-terrain\")\n",
        "\n",
        "# Show the figure\n",
        "st.plotly_chart(fig, use_container_width=True)"
      ],
      "metadata": {
        "id": "RMq6a-RfIn4U",
        "colab": {
          "base_uri": "https://localhost:8080/"
        },
        "outputId": "7a3036e0-b30b-42c2-c0cc-a3ddfdfada7d"
      },
      "id": "RMq6a-RfIn4U",
      "execution_count": null,
      "outputs": [
        {
          "output_type": "stream",
          "name": "stdout",
          "text": [
            "Writing streamlit_app.py\n"
          ]
        }
      ]
    },
    {
      "cell_type": "markdown",
      "source": [
        "The **%%writefile [FILE_NAME].[FILE_EXTENSION]** command let's us save the code written in the cells in your Google Colab instance. Having it saved like that enables us to download it as a file, as seen below:"
      ],
      "metadata": {
        "id": "OQ2XhKtchCr9"
      },
      "id": "OQ2XhKtchCr9"
    },
    {
      "cell_type": "code",
      "source": [
        "from google.colab import files\n",
        "\n",
        "# Download the file locally\n",
        "files.download('streamlit_app.py')"
      ],
      "metadata": {
        "id": "zZw7Ynwr9h3Z",
        "colab": {
          "base_uri": "https://localhost:8080/",
          "height": 17
        },
        "outputId": "a8e8280c-e302-474f-c000-a049a1eef877"
      },
      "id": "zZw7Ynwr9h3Z",
      "execution_count": null,
      "outputs": [
        {
          "output_type": "display_data",
          "data": {
            "text/plain": [
              "<IPython.core.display.Javascript object>"
            ],
            "application/javascript": [
              "\n",
              "    async function download(id, filename, size) {\n",
              "      if (!google.colab.kernel.accessAllowed) {\n",
              "        return;\n",
              "      }\n",
              "      const div = document.createElement('div');\n",
              "      const label = document.createElement('label');\n",
              "      label.textContent = `Downloading \"${filename}\": `;\n",
              "      div.appendChild(label);\n",
              "      const progress = document.createElement('progress');\n",
              "      progress.max = size;\n",
              "      div.appendChild(progress);\n",
              "      document.body.appendChild(div);\n",
              "\n",
              "      const buffers = [];\n",
              "      let downloaded = 0;\n",
              "\n",
              "      const channel = await google.colab.kernel.comms.open(id);\n",
              "      // Send a message to notify the kernel that we're ready.\n",
              "      channel.send({})\n",
              "\n",
              "      for await (const message of channel.messages) {\n",
              "        // Send a message to notify the kernel that we're ready.\n",
              "        channel.send({})\n",
              "        if (message.buffers) {\n",
              "          for (const buffer of message.buffers) {\n",
              "            buffers.push(buffer);\n",
              "            downloaded += buffer.byteLength;\n",
              "            progress.value = downloaded;\n",
              "          }\n",
              "        }\n",
              "      }\n",
              "      const blob = new Blob(buffers, {type: 'application/binary'});\n",
              "      const a = document.createElement('a');\n",
              "      a.href = window.URL.createObjectURL(blob);\n",
              "      a.download = filename;\n",
              "      div.appendChild(a);\n",
              "      a.click();\n",
              "      div.remove();\n",
              "    }\n",
              "  "
            ]
          },
          "metadata": {}
        },
        {
          "output_type": "display_data",
          "data": {
            "text/plain": [
              "<IPython.core.display.Javascript object>"
            ],
            "application/javascript": [
              "download(\"download_f4829027-3622-4fa2-ad60-690226eef999\", \"streamlit_app.py\", 1763)"
            ]
          },
          "metadata": {}
        }
      ]
    },
    {
      "cell_type": "code",
      "source": [
        "%%writefile requirements.txt\n",
        "pandas\n",
        "streamlit\n",
        "plotly"
      ],
      "metadata": {
        "id": "B-qGmYOHNUQN",
        "colab": {
          "base_uri": "https://localhost:8080/"
        },
        "outputId": "60a52be2-4200-4eee-8285-3887dbfcfeda"
      },
      "id": "B-qGmYOHNUQN",
      "execution_count": null,
      "outputs": [
        {
          "output_type": "stream",
          "name": "stdout",
          "text": [
            "Writing requirements.txt\n"
          ]
        }
      ]
    },
    {
      "cell_type": "code",
      "source": [
        "from google.colab import files\n",
        "\n",
        "# Download the file locally\n",
        "files.download('requirements.txt')"
      ],
      "metadata": {
        "id": "AXjHxtJXNVZf",
        "colab": {
          "base_uri": "https://localhost:8080/",
          "height": 17
        },
        "outputId": "5240d3dd-b33e-4f40-e539-faa6ce956e76"
      },
      "id": "AXjHxtJXNVZf",
      "execution_count": null,
      "outputs": [
        {
          "output_type": "display_data",
          "data": {
            "text/plain": [
              "<IPython.core.display.Javascript object>"
            ],
            "application/javascript": [
              "\n",
              "    async function download(id, filename, size) {\n",
              "      if (!google.colab.kernel.accessAllowed) {\n",
              "        return;\n",
              "      }\n",
              "      const div = document.createElement('div');\n",
              "      const label = document.createElement('label');\n",
              "      label.textContent = `Downloading \"${filename}\": `;\n",
              "      div.appendChild(label);\n",
              "      const progress = document.createElement('progress');\n",
              "      progress.max = size;\n",
              "      div.appendChild(progress);\n",
              "      document.body.appendChild(div);\n",
              "\n",
              "      const buffers = [];\n",
              "      let downloaded = 0;\n",
              "\n",
              "      const channel = await google.colab.kernel.comms.open(id);\n",
              "      // Send a message to notify the kernel that we're ready.\n",
              "      channel.send({})\n",
              "\n",
              "      for await (const message of channel.messages) {\n",
              "        // Send a message to notify the kernel that we're ready.\n",
              "        channel.send({})\n",
              "        if (message.buffers) {\n",
              "          for (const buffer of message.buffers) {\n",
              "            buffers.push(buffer);\n",
              "            downloaded += buffer.byteLength;\n",
              "            progress.value = downloaded;\n",
              "          }\n",
              "        }\n",
              "      }\n",
              "      const blob = new Blob(buffers, {type: 'application/binary'});\n",
              "      const a = document.createElement('a');\n",
              "      a.href = window.URL.createObjectURL(blob);\n",
              "      a.download = filename;\n",
              "      div.appendChild(a);\n",
              "      a.click();\n",
              "      div.remove();\n",
              "    }\n",
              "  "
            ]
          },
          "metadata": {}
        },
        {
          "output_type": "display_data",
          "data": {
            "text/plain": [
              "<IPython.core.display.Javascript object>"
            ],
            "application/javascript": [
              "download(\"download_35bb05ec-488d-4486-90af-522cc4213085\", \"requirements.txt\", 24)"
            ]
          },
          "metadata": {}
        }
      ]
    },
    {
      "cell_type": "markdown",
      "source": [
        "Please verify that you've downloaded three files:\n",
        "- `WK1_Airbnb_Amsterdam_listings_proj_solution.csv`\n",
        "- `streamlit_app.py`\n",
        "- `requirements.txt`\n",
        "\n",
        "Now let's head over to GitHub and [create an account](https://github.com/signup).\n",
        "\n",
        "Then, since you are logged in [go to GitHub.com](https://github.com) and click on the **+** icon at the top-right corner and select **New repository**.\n",
        "\n",
        "<center>\n",
        "  <img src=https://i.ibb.co/4gkPBCp/Screen-Shot-2022-11-28-at-1-51-02-PM.png width=\"300\" align=\"center\" />\n",
        "</center>\n",
        "<br/>\n",
        "\n",
        "Here you provide:\n",
        "- **Repository name**: Up to you\n",
        "- **License**: Up to you. We recommend **apache-2.0**.\n",
        "\n",
        "- **Public or private?** Public, otherwise you can't host it on [Streamlit Share](https://share.streamlit.io)!\n",
        "\n",
        "<center>\n",
        "  <img src=https://i.ibb.co/0B533dw/Screen-Shot-2022-11-28-at-1-55-14-PM.png width=\"450\" align=\"center\" />\n",
        "</center>\n",
        "<br/>\n",
        "\n",
        "Then upload the three files to this URL below. ***Please modify it before copy-pasting it***:\n",
        "\n",
        "```https://github.com/[YOUR_ACCOUNT_NAME]/[YOUR_REPOSITORY_NAME]/upload/main```\n",
        "\n",
        "<center>\n",
        "  <img src=https://i.ibb.co/jTsrgJw/Screen-Shot-2022-11-28-at-1-58-31-PM.png width=\"500\" align=\"center\" />\n",
        "</center>\n",
        "<br/>\n",
        "\n",
        "Commit directly to the `main` branch, then click **Commit changes**.\n",
        "\n",
        "Next, you have to create an account on [Streamlit Share](https://share.streamlit.io/signup). \n",
        "\n",
        "<center>\n",
        "  <img src=https://i.ibb.co/znFngJc/Screen-Shot-2022-11-28-at-1-59-47-PM.png width=\"500\" align=\"center\" />\n",
        "</center>\n",
        "<br/>\n",
        "\n",
        "It's recommended to click **Continue with GitHub**. \n",
        "\n",
        "Then, select **New app** **>** **Deploy a new app...** **>** **From existing repo**.\n",
        "\n",
        "<center>\n",
        "  <img src=https://i.ibb.co/VQPQzt3/Screen-Shot-2022-11-28-at-2-05-04-PM.png width=\"500\" align=\"center\" />\n",
        "</center>\n",
        "\n",
        "Followed by providing your:\n",
        "\n",
        "```[GITHUB_ACCOUNT_NAME]/[GITHUB_REPOSITORY]```\n",
        "\n",
        "<center>\n",
        "  <img src=https://i.ibb.co/PDSQccD/Screen-Shot-2022-11-28-at-2-10-47-PM.png width=\"500\" align=\"center\" />\n",
        "</center>\n",
        "\n",
        "You will have to wait around 1-5 minutes, then an automatic hyperlink is generated for your new website. An example is this app:\n",
        "\n",
        "```https://[GITHUB_ACCOUNT_NAME]-[GITHUB_REPOSITORY]-[RANDOM_6_LETTER_STRING].streamlit.app/```\n",
        "\n",
        "***Please modify the link before copy-pasting it.***"
      ],
      "metadata": {
        "id": "pkmVcoiWQL6s"
      },
      "id": "pkmVcoiWQL6s"
    },
    {
      "cell_type": "markdown",
      "id": "6b63286a-e574-4284-96de-a6793f94a2f0",
      "metadata": {
        "id": "6b63286a-e574-4284-96de-a6793f94a2f0"
      },
      "source": [
        "---\n",
        "\n",
        "# 🎉 CONGRATULATIONS!\n",
        "\n",
        "You've made it to the end of the Week 1 assignment! You should be proud. \n",
        "\n",
        "If you have any lingering questions, post them on Slack! As you know, we're always here to help.\n",
        "\n",
        "And if you want any additional challenge questions, check out the bonus extensions below.\n",
        "\n",
        "---\n",
        "\n",
        "## Extensions (Optional)\n",
        "\n",
        "<center>\n",
        "  <img src=https://miro.medium.com/max/4800/1*qd9TMO5j_wLxDbPT7qkdxw.png width=\"500\" align=\"center\" />\n",
        "</center>\n",
        "<br/>\n",
        "\n",
        "We invite you to try and see if you can apply [Numba](https://numba.pydata.org/) to the project and potentially speed up some of these calculations. This is a tool commonly used in the industry to make code run faster. \n",
        "\n",
        "Another experiment you could try (if you have access to a GPU) is to see if running your code via [CuPy](https://cupy.dev/) speeds up your implementation. A great way to start is described in [this post](https://medium.com/data-analysis-center/a-practical-approach-to-speed-up-python-code-numba-numpy-cupy-65ab52526ad4).\n",
        "\n",
        "Lastly, Can't get enough of Numpy 🥰? Try [this tutorial on Kaggle](https://www.kaggle.com/code/legendadnan/numpy-tutorial-for-beginners-data-science/notebook), which covers some more interesting NumPy uses.\n",
        "\n",
        "# Next Up?\n",
        "Next week we will delve into Pandas, a Python library focused on tabular data instead of matrixed data. We'll show you how those are different, and how you'll be able to harness Pandas for your machine learning journey with Python!"
      ]
    }
  ],
  "metadata": {
    "kernelspec": {
      "display_name": "Python 3 (ipykernel)",
      "language": "python",
      "name": "python3"
    },
    "language_info": {
      "codemirror_mode": {
        "name": "ipython",
        "version": 3
      },
      "file_extension": ".py",
      "mimetype": "text/x-python",
      "name": "python",
      "nbconvert_exporter": "python",
      "pygments_lexer": "ipython3",
      "version": "3.10.4"
    },
    "colab": {
      "provenance": [],
      "include_colab_link": true
    }
  },
  "nbformat": 4,
  "nbformat_minor": 5
}